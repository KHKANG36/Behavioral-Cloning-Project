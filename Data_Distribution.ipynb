{
 "cells": [
  {
   "cell_type": "code",
   "execution_count": 47,
   "metadata": {
    "collapsed": false,
    "scrolled": true
   },
   "outputs": [
    {
     "data": {
      "image/png": "[encoded data removed]",
      "text/plain": [
       "<matplotlib.figure.Figure at 0x2c01d55d0b8>"
      ]
     },
     "metadata": {},
     "output_type": "display_data"
    }
   ],
   "source": [
    "#----------------\n",
    "#Import Modules \n",
    "#----------------\n",
    "import csv\n",
    "import cv2\n",
    "import random\n",
    "import numpy as np\n",
    "from keras.models import Sequential, Model\n",
    "from keras.layers import Flatten, Dense, Convolution2D, Lambda, Cropping2D, Activation, Dropout\n",
    "import matplotlib.pyplot as plt \n",
    "\n",
    "#-----------------------------\n",
    "#Open Driving_log Data\n",
    "#-----------------------------\n",
    "Datas=[]\n",
    "with open('./mydata/driving_log.csv') as csvfile:\n",
    "    reader=csv.reader(csvfile)\n",
    "    for data in reader:\n",
    "        Datas.append(data)   \n",
    "\n",
    "#----------------------------------------\n",
    "#Data Augment : #1. Use Left/Right Images\n",
    "#----------------------------------------\n",
    "images=[]\n",
    "angles=[]\n",
    "correct=0.2\n",
    "for Data in Datas:\n",
    "    angle_center=float(Data[3])\n",
    "    angle_left=angle_center+0.2\n",
    "    angle_right=angle_center-0.2\n",
    "    angles.append(angle_center)\n",
    "    angles.append(angle_left)\n",
    "    angles.append(angle_right)\n",
    "\n",
    "plt.hist(angles, bins=1000)\n",
    "plt.show()\n",
    "\n",
    "\n",
    "\n"
   ]
  },
  {
   "cell_type": "code",
   "execution_count": null,
   "metadata": {
    "collapsed": true
   },
   "outputs": [],
   "source": []
  }
 ],
 "metadata": {
  "anaconda-cloud": {},
  "kernelspec": {
   "display_name": "Python [conda root]",
   "language": "python",
   "name": "conda-root-py"
  },
  "language_info": {
   "codemirror_mode": {
    "name": "ipython",
    "version": 3
   },
   "file_extension": ".py",
   "mimetype": "text/x-python",
   "name": "python",
   "nbconvert_exporter": "python",
   "pygments_lexer": "ipython3",
   "version": "3.5.2"
  }
 },
 "nbformat": 4,
 "nbformat_minor": 1
}
